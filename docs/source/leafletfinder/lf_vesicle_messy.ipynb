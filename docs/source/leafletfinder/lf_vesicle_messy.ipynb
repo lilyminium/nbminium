{
 "cells": [
  {
   "cell_type": "markdown",
   "metadata": {},
   "source": [
    "# Finding leaflets in a vesicle with other stuff\n",
    "\n",
    "This notebook demonstrates the performance of different algorithms for finding leaflets in a vesicle that has not finished aggregating, and discusses some pitfalls in the \"orientation\" method. I also have a different notebook demonstrating much better performance on a [tidier vesicle](lf_vesicle.ipynb). \n",
    "\n",
    "I obtained this file from the [FATSLiM tutorial here](https://pythonhosted.org/fatslim/documentation/tutorials.html).\n",
    "\n",
    "The particle groups analysed are:\n",
    "\n",
    "* `u`: the entire vesicle\n",
    "* `half`: half the membrane, randomly dispersed\n",
    "* `fifth`: 1/5th the membrane, randomly dispersed\n",
    "\n",
    "In summary, this is pretty hard. \"orientation\" is actually sensitive to the `cutoff`, because it considers any lipids within `cutoff` distance of each other to potentially be in the same leaflet, provided they oriented at acute angles."
   ]
  },
  {
   "cell_type": "code",
   "execution_count": 1,
   "metadata": {
    "ExecuteTime": {
     "end_time": "2020-07-16T10:53:06.901106Z",
     "start_time": "2020-07-16T10:53:05.882485Z"
    },
    "scrolled": false
   },
   "outputs": [
    {
     "data": {
      "application/vnd.jupyter.widget-view+json": {
       "model_id": "f7cce44bea4844d69100df86cc789bd5",
       "version_major": 2,
       "version_minor": 0
      },
      "text/plain": [
       "_ColormakerRegistry()"
      ]
     },
     "metadata": {},
     "output_type": "display_data"
    }
   ],
   "source": [
    "import MDAnalysis as mda\n",
    "import numpy as np\n",
    "import nglview as nv\n",
    "from MDAnalysis.analysis.leaflet import LeafletFinder\n",
    "from MDAnalysis.tests.datafiles import DPPC_vesicle_plus"
   ]
  },
  {
   "cell_type": "code",
   "execution_count": 2,
   "metadata": {
    "ExecuteTime": {
     "end_time": "2020-07-16T10:53:07.316733Z",
     "start_time": "2020-07-16T10:53:06.903408Z"
    }
   },
   "outputs": [],
   "source": [
    "u = mda.Universe(DPPC_vesicle_plus)\n",
    "half = u.residues[::2].atoms\n",
    "fifth = u.residues[::5].atoms"
   ]
  },
  {
   "cell_type": "code",
   "execution_count": 3,
   "metadata": {
    "ExecuteTime": {
     "end_time": "2020-07-16T10:53:07.330816Z",
     "start_time": "2020-07-16T10:53:07.322116Z"
    }
   },
   "outputs": [],
   "source": [
    "def show_leaflets(ag, select=\"name PO4 GL1 ROH\", n_groups=8,\n",
    "                  superset=None, **kwargs):\n",
    "    \"\"\"\n",
    "    Get and show the leaflets. The first and second largest\n",
    "    leaflets are coloured. If answers are given in `superset`,\n",
    "    they are compared.\n",
    "    \"\"\"\n",
    "    u = ag.universe\n",
    "    lf = LeafletFinder(ag, select=select,\n",
    "                       n_groups=n_groups, **kwargs)\n",
    "    n_residues = ', '.join(list(map(str, lf.sizes)))\n",
    "    print(f\"Found {len(lf.leaflets)} leaflets: {n_residues} residues\")\n",
    "    if superset is not None:\n",
    "        for i, (found, known) in enumerate(zip(lf.groups, superset), 1):\n",
    "            diff = found - known\n",
    "            if len(diff):\n",
    "                print(f\"Leaflet {i} is not within superset: \"\n",
    "                      f\"{len(diff)} extra residues\")\n",
    "    u.add_TopologyAttr('tempfactors')\n",
    "    lf1 = lf.groups[0].residues.atoms\n",
    "    lf1.tempfactors = np.zeros(len(lf1)) - 10\n",
    "    lf2 = lf.groups[1].residues.atoms\n",
    "    lf2.tempfactors = np.zeros(len(lf2)) + 10\n",
    "    for i, leaflet in enumerate(lf.groups[2:], 1):\n",
    "        lfi = leaflet.residues.atoms\n",
    "        lfi.tempfactors = np.ones(len(lfi)) * i\n",
    "    view = nv.show_mdanalysis(lf.selection)\n",
    "    view.clear_representations()\n",
    "    view.add_representation('spacefill', color_scheme='bfactor')\n",
    "    return view\n",
    "\n",
    "def get_leaflets(ag, select=\"name PO4 GL1 ROH\", **kwargs):\n",
    "    LeafletFinder(ag, select=select, **kwargs)"
   ]
  },
  {
   "cell_type": "markdown",
   "metadata": {},
   "source": [
    "## Entire membrane"
   ]
  },
  {
   "cell_type": "markdown",
   "metadata": {},
   "source": [
    "### Graph\n",
    "\n",
    "\"graph\" does quite well; although I only see 2 leaflets + 6 blobs, whereas it's found 9 groups."
   ]
  },
  {
   "cell_type": "code",
   "execution_count": 4,
   "metadata": {
    "ExecuteTime": {
     "end_time": "2020-07-16T10:53:09.644968Z",
     "start_time": "2020-07-16T10:53:08.047724Z"
    },
    "scrolled": false
   },
   "outputs": [
    {
     "name": "stdout",
     "output_type": "stream",
     "text": [
      "Found 9 leaflets: 3702, 2358, 4, 50, 14, 2, 10, 2, 2 residues\n"
     ]
    },
    {
     "data": {
      "application/vnd.jupyter.widget-view+json": {
       "model_id": "cb37d3f1a7af45a6b40f5e3ede632717",
       "version_major": 2,
       "version_minor": 0
      },
      "text/plain": [
       "NGLWidget()"
      ]
     },
     "metadata": {},
     "output_type": "display_data"
    }
   ],
   "source": [
    "show_leaflets(u, method=\"graph\")"
   ]
  },
  {
   "cell_type": "markdown",
   "metadata": {},
   "source": [
    "![messy vesicle: graph, full](images/lf_vesicle_messy_graph_1.png)\n",
    "\n",
    "Images are embedded to save space, instead of nglview widgets.\n",
    "\n",
    "Below I grab these leaflets so I can use them to ascertain the correctness of the the `half` and `fifth` atom groups, where it becomes a bit hard to see which leaflet is which."
   ]
  },
  {
   "cell_type": "code",
   "execution_count": 5,
   "metadata": {
    "ExecuteTime": {
     "end_time": "2020-07-16T10:53:10.074715Z",
     "start_time": "2020-07-16T10:53:09.647096Z"
    }
   },
   "outputs": [],
   "source": [
    "lf = LeafletFinder(u, select=\"name PO4 GL1 ROH\", method=\"graph\")\n",
    "superset = lf.groups[:2]"
   ]
  },
  {
   "cell_type": "markdown",
   "metadata": {},
   "source": [
    "### Spectral clustering\n",
    "\n",
    "Spectral clustering is having big, big issues."
   ]
  },
  {
   "cell_type": "code",
   "execution_count": 6,
   "metadata": {
    "ExecuteTime": {
     "end_time": "2020-07-16T10:53:12.606774Z",
     "start_time": "2020-07-16T10:53:10.194059Z"
    },
    "scrolled": false
   },
   "outputs": [
    {
     "name": "stdout",
     "output_type": "stream",
     "text": [
      "Found 8 leaflets: 964, 956, 916, 888, 886, 750, 734, 50 residues\n",
      "Leaflet 1 is not within superset: 6 extra residues\n",
      "Leaflet 2 is not within superset: 956 extra residues\n"
     ]
    },
    {
     "data": {
      "application/vnd.jupyter.widget-view+json": {
       "model_id": "19b4ad195c254335997e22b8742450aa",
       "version_major": 2,
       "version_minor": 0
      },
      "text/plain": [
       "NGLWidget()"
      ]
     },
     "metadata": {},
     "output_type": "display_data"
    }
   ],
   "source": [
    "show_leaflets(u, method=\"spectralclustering\", cutoff=80, superset=superset)"
   ]
  },
  {
   "cell_type": "markdown",
   "metadata": {},
   "source": [
    "![messy vesicle: sc, full](images/lf_vesicle_messy_sc_1.png)\n",
    "\n",
    "Reducing the number of groups helps a little, although it's grouped most of the extra ones into the outer leaflet...."
   ]
  },
  {
   "cell_type": "code",
   "execution_count": 7,
   "metadata": {
    "ExecuteTime": {
     "end_time": "2020-07-16T10:53:14.467765Z",
     "start_time": "2020-07-16T10:53:12.626105Z"
    }
   },
   "outputs": [
    {
     "name": "stdout",
     "output_type": "stream",
     "text": [
      "Found 3 leaflets: 3736, 2358, 50 residues\n",
      "Leaflet 1 is not within superset: 34 extra residues\n"
     ]
    },
    {
     "data": {
      "application/vnd.jupyter.widget-view+json": {
       "model_id": "5fef6ba02151492185e3a3ddada58ffd",
       "version_major": 2,
       "version_minor": 0
      },
      "text/plain": [
       "NGLWidget()"
      ]
     },
     "metadata": {},
     "output_type": "display_data"
    }
   ],
   "source": [
    "show_leaflets(u, method=\"spectralclustering\", cutoff=80, superset=superset, n_groups=3)"
   ]
  },
  {
   "cell_type": "markdown",
   "metadata": {},
   "source": [
    "![messy vesicle: sc, full, 3 groups](images/lf_vesicle_messy_sc_2.png)\n",
    "\n",
    "\n",
    "I won't time this or keep comparing how \"spectralclustering\" works for the other examples."
   ]
  },
  {
   "cell_type": "markdown",
   "metadata": {},
   "source": [
    "### Orientation\n",
    "\n",
    "Orientation works with the default cutoff, although whatever the 6 blobs are is not clear."
   ]
  },
  {
   "cell_type": "code",
   "execution_count": 8,
   "metadata": {
    "ExecuteTime": {
     "end_time": "2020-07-16T10:53:15.599521Z",
     "start_time": "2020-07-16T10:53:14.585486Z"
    },
    "scrolled": false
   },
   "outputs": [
    {
     "name": "stdout",
     "output_type": "stream",
     "text": [
      "Found 8 leaflets: 3702, 2358, 28, 16, 16, 12, 6, 6 residues\n"
     ]
    },
    {
     "data": {
      "application/vnd.jupyter.widget-view+json": {
       "model_id": "690474f38c7b407180b1401e157e8630",
       "version_major": 2,
       "version_minor": 0
      },
      "text/plain": [
       "NGLWidget()"
      ]
     },
     "metadata": {},
     "output_type": "display_data"
    }
   ],
   "source": [
    "show_leaflets(u, method=\"orientation\", superset=superset)"
   ]
  },
  {
   "cell_type": "markdown",
   "metadata": {},
   "source": [
    "![messy vesicle: orient, full](images/lf_vesicle_messy_or_1.png)\n",
    "\n",
    "Below I demonstrate that increasing the cutoff does not *always* increase the accuracy, though (even though I've claimed somewhere that it does increase it monotonically). That's because the algorithm considers all lipids within the cutoff to potentially belong to the same leaflet, providing that they have similar orientations. This, in addition to specifying how many groups you want, means it can do weird things like the below."
   ]
  },
  {
   "cell_type": "code",
   "execution_count": 9,
   "metadata": {
    "ExecuteTime": {
     "end_time": "2020-07-16T10:53:17.321386Z",
     "start_time": "2020-07-16T10:53:15.601819Z"
    }
   },
   "outputs": [
    {
     "name": "stdout",
     "output_type": "stream",
     "text": [
      "Found 8 leaflets: 3794, 2322, 12, 8, 2, 2, 2, 2 residues\n",
      "Leaflet 1 is not within superset: 94 extra residues\n",
      "Leaflet 2 is not within superset: 14 extra residues\n"
     ]
    },
    {
     "data": {
      "application/vnd.jupyter.widget-view+json": {
       "model_id": "ab3b2373458847e097eea9a74c60472b",
       "version_major": 2,
       "version_minor": 0
      },
      "text/plain": [
       "NGLWidget()"
      ]
     },
     "metadata": {},
     "output_type": "display_data"
    }
   ],
   "source": [
    "show_leaflets(u, method=\"orientation\", cutoff=80, superset=superset)"
   ]
  },
  {
   "cell_type": "markdown",
   "metadata": {},
   "source": [
    "![messy vesicle: orient, full, large cutoff](images/lf_vesicle_messy_or_2.png)"
   ]
  },
  {
   "cell_type": "markdown",
   "metadata": {},
   "source": [
    "## Half the residues"
   ]
  },
  {
   "cell_type": "markdown",
   "metadata": {},
   "source": [
    "### Graph\n",
    "\n",
    "Graph does pretty well here on the default cutoff again."
   ]
  },
  {
   "cell_type": "code",
   "execution_count": 10,
   "metadata": {
    "ExecuteTime": {
     "end_time": "2020-07-16T10:53:19.762783Z",
     "start_time": "2020-07-16T10:53:19.492075Z"
    },
    "scrolled": false
   },
   "outputs": [
    {
     "name": "stdout",
     "output_type": "stream",
     "text": [
      "Found 10 leaflets: 1868, 1162, 24, 2, 4, 2, 2, 4, 2, 2 residues\n"
     ]
    }
   ],
   "source": [
    "show_leaflets(half, method=\"graph\", superset=superset);"
   ]
  },
  {
   "cell_type": "markdown",
   "metadata": {},
   "source": [
    "![messy vesicle: graph, half](images/lf_vesicle_messy_graph_2.png)"
   ]
  },
  {
   "cell_type": "code",
   "execution_count": 11,
   "metadata": {
    "ExecuteTime": {
     "end_time": "2020-07-16T10:53:32.932309Z",
     "start_time": "2020-07-16T10:53:20.836097Z"
    }
   },
   "outputs": [
    {
     "name": "stdout",
     "output_type": "stream",
     "text": [
      "148 ms ± 2.03 ms per loop (mean ± std. dev. of 7 runs, 10 loops each)\n"
     ]
    }
   ],
   "source": [
    "%timeit get_leaflets(half, method=\"graph\")"
   ]
  },
  {
   "cell_type": "markdown",
   "metadata": {},
   "source": [
    "### Orientation\n",
    "\n",
    "The default settings here don't quite work, as they have pulled in 2 extra lipids.\n",
    "\n",
    "This is likely because we have specified `n_groups=8` and it has achieved that by associating the smallest group (2 lipids) with the closest large group. "
   ]
  },
  {
   "cell_type": "code",
   "execution_count": 12,
   "metadata": {
    "ExecuteTime": {
     "end_time": "2020-07-16T10:53:33.477834Z",
     "start_time": "2020-07-16T10:53:32.934049Z"
    },
    "scrolled": false
   },
   "outputs": [
    {
     "name": "stdout",
     "output_type": "stream",
     "text": [
      "Found 8 leaflets: 1868, 1164, 12, 10, 6, 4, 4, 4 residues\n",
      "Leaflet 2 is not within superset: 2 extra residues\n"
     ]
    }
   ],
   "source": [
    "show_leaflets(half, method=\"orientation\", superset=superset);"
   ]
  },
  {
   "cell_type": "markdown",
   "metadata": {},
   "source": [
    "Well, we only really care about the 2 actual leaflets. I can take advantage of that by only choosing to find 2 groups, and by using the `min_group` keyword to specify that each leaflet should have at least 20 lipids."
   ]
  },
  {
   "cell_type": "code",
   "execution_count": 13,
   "metadata": {
    "ExecuteTime": {
     "end_time": "2020-07-16T10:53:34.053284Z",
     "start_time": "2020-07-16T10:53:33.481307Z"
    }
   },
   "outputs": [
    {
     "name": "stdout",
     "output_type": "stream",
     "text": [
      "Found 2 leaflets: 1868, 1162 residues\n"
     ]
    },
    {
     "data": {
      "application/vnd.jupyter.widget-view+json": {
       "model_id": "df99605161d746d4b7106a9a6d2c6467",
       "version_major": 2,
       "version_minor": 0
      },
      "text/plain": [
       "NGLWidget()"
      ]
     },
     "metadata": {},
     "output_type": "display_data"
    }
   ],
   "source": [
    "show_leaflets(half, method=\"orientation\", n_groups=2, min_group=20, superset=superset)"
   ]
  },
  {
   "cell_type": "markdown",
   "metadata": {},
   "source": [
    "![messy vesicle: half, orient, 2 groups](images/lf_vesicle_messy_or_3m.png)"
   ]
  },
  {
   "cell_type": "markdown",
   "metadata": {},
   "source": [
    "## A fifth of the residues"
   ]
  },
  {
   "cell_type": "markdown",
   "metadata": {},
   "source": [
    "### Graph\n",
    "\n",
    "\"graph\" is actually doing quite well here, I think! But it's missing some and added some extra lipids."
   ]
  },
  {
   "cell_type": "code",
   "execution_count": 14,
   "metadata": {
    "ExecuteTime": {
     "end_time": "2020-07-16T10:53:36.727903Z",
     "start_time": "2020-07-16T10:53:36.597897Z"
    },
    "scrolled": true
   },
   "outputs": [
    {
     "name": "stdout",
     "output_type": "stream",
     "text": [
      "Found 11 leaflets: 730, 462, 18, 4, 2, 2, 2, 4, 2, 2, 2 residues\n",
      "Leaflet 1 is not within superset: 2 extra residues\n"
     ]
    },
    {
     "data": {
      "application/vnd.jupyter.widget-view+json": {
       "model_id": "05354e2c0d2a49a0becb31a98ae2ea33",
       "version_major": 2,
       "version_minor": 0
      },
      "text/plain": [
       "NGLWidget()"
      ]
     },
     "metadata": {},
     "output_type": "display_data"
    }
   ],
   "source": [
    "show_leaflets(fifth, method=\"graph\", cutoff=25, superset=superset)"
   ]
  },
  {
   "cell_type": "markdown",
   "metadata": {},
   "source": [
    "![messy vesicle: graph, fifth](images/lf_vesicle_messy_graph_2.png)"
   ]
  },
  {
   "cell_type": "markdown",
   "metadata": {},
   "source": [
    "### Orientation"
   ]
  },
  {
   "cell_type": "code",
   "execution_count": 15,
   "metadata": {
    "ExecuteTime": {
     "end_time": "2020-07-16T10:53:38.927197Z",
     "start_time": "2020-07-16T10:53:38.684860Z"
    },
    "scrolled": false
   },
   "outputs": [
    {
     "name": "stdout",
     "output_type": "stream",
     "text": [
      "Found 2 leaflets: 754, 464 residues\n"
     ]
    },
    {
     "data": {
      "application/vnd.jupyter.widget-view+json": {
       "model_id": "d64304c9fe174fa5a8e4690e87137f13",
       "version_major": 2,
       "version_minor": 0
      },
      "text/plain": [
       "NGLWidget()"
      ]
     },
     "metadata": {},
     "output_type": "display_data"
    }
   ],
   "source": [
    "show_leaflets(fifth, method=\"orientation\", n_groups=2, min_group=20, \n",
    "              cutoff=30, superset=superset)"
   ]
  },
  {
   "cell_type": "markdown",
   "metadata": {},
   "source": [
    "![messy vesicle: orient, fifth](images/lf_vesicle_messy_or_4.png)\n",
    "\n",
    "Again, this is sensitive to the cutoff to avoid including those extra lipids."
   ]
  },
  {
   "cell_type": "code",
   "execution_count": 16,
   "metadata": {
    "ExecuteTime": {
     "end_time": "2020-07-16T10:53:40.281965Z",
     "start_time": "2020-07-16T10:53:40.033339Z"
    }
   },
   "outputs": [
    {
     "name": "stdout",
     "output_type": "stream",
     "text": [
      "Found 2 leaflets: 762, 466 residues\n",
      "Leaflet 1 is not within superset: 10 extra residues\n",
      "Leaflet 2 is not within superset: 4 extra residues\n"
     ]
    },
    {
     "data": {
      "application/vnd.jupyter.widget-view+json": {
       "model_id": "428dbf632e7f47dd918c7c6658159d0e",
       "version_major": 2,
       "version_minor": 0
      },
      "text/plain": [
       "NGLWidget()"
      ]
     },
     "metadata": {},
     "output_type": "display_data"
    }
   ],
   "source": [
    "show_leaflets(fifth, method=\"orientation\", n_groups=2, min_group=20, \n",
    "              cutoff=80, superset=superset)"
   ]
  }
 ],
 "metadata": {
  "kernelspec": {
   "display_name": "Python (mda-dev)",
   "language": "python",
   "name": "mda-dev"
  },
  "language_info": {
   "codemirror_mode": {
    "name": "ipython",
    "version": 3
   },
   "file_extension": ".py",
   "mimetype": "text/x-python",
   "name": "python",
   "nbconvert_exporter": "python",
   "pygments_lexer": "ipython3",
   "version": "3.7.6"
  },
  "toc": {
   "base_numbering": 1,
   "nav_menu": {},
   "number_sections": true,
   "sideBar": true,
   "skip_h1_title": false,
   "title_cell": "Table of Contents",
   "title_sidebar": "Contents",
   "toc_cell": false,
   "toc_position": {},
   "toc_section_display": true,
   "toc_window_display": true
  }
 },
 "nbformat": 4,
 "nbformat_minor": 4
}
