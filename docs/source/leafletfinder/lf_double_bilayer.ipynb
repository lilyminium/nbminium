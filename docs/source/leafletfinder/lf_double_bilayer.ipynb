{
 "cells": [
  {
   "cell_type": "markdown",
   "metadata": {},
   "source": [
    "# Finding leaflets in a double planar bilayer\n",
    "\n",
    "This notebook demonstrates the performance of the \"orientation\" leaflet-finding algorithms on an example double planar bilayer of coarse-grained DPPC and CHOL lipids. Other algorithms are provided only for the first and easiest example (the entire membrane) as they cannot handle the two inner leaflets.\n",
    "\n",
    "The particle groups analysed are:\n",
    "\n",
    "* `u`: the entire membrane\n",
    "* `half`: half the membrane, randomly dispersed\n",
    "* `half_chol`: the CHOL molecules in `half`\n",
    "* `fifth`: 1/5th the membrane, randomly dispersed\n",
    "* `fifth_chol`: the CHOL molecules in `fifth`"
   ]
  },
  {
   "cell_type": "code",
   "execution_count": 1,
   "metadata": {
    "ExecuteTime": {
     "end_time": "2020-07-16T08:43:32.174770Z",
     "start_time": "2020-07-16T08:43:31.719009Z"
    },
    "scrolled": false
   },
   "outputs": [
    {
     "data": {
      "application/vnd.jupyter.widget-view+json": {
       "model_id": "6c96b457e9974d638a4aeb45632d05c1",
       "version_major": 2,
       "version_minor": 0
      },
      "text/plain": [
       "_ColormakerRegistry()"
      ]
     },
     "metadata": {},
     "output_type": "display_data"
    }
   ],
   "source": [
    "import MDAnalysis as mda\n",
    "import numpy as np\n",
    "import nglview as nv\n",
    "from MDAnalysis.analysis.leaflet import LeafletFinder\n",
    "from MDAnalysis.tests.datafiles import Martini_double_membrane"
   ]
  },
  {
   "cell_type": "code",
   "execution_count": 2,
   "metadata": {
    "ExecuteTime": {
     "end_time": "2020-07-16T08:43:32.304392Z",
     "start_time": "2020-07-16T08:43:32.177529Z"
    }
   },
   "outputs": [],
   "source": [
    "u = mda.Universe(Martini_double_membrane)\n",
    "half = u.residues[::2].atoms\n",
    "half_chol = half.select_atoms('resname CHOL')\n",
    "fifth = u.residues[::5].atoms\n",
    "fifth_chol = fifth.select_atoms('resname CHOL')"
   ]
  },
  {
   "cell_type": "code",
   "execution_count": 13,
   "metadata": {
    "ExecuteTime": {
     "end_time": "2020-07-16T08:46:24.947698Z",
     "start_time": "2020-07-16T08:46:24.938757Z"
    }
   },
   "outputs": [],
   "source": [
    "def show_leaflets(ag, select=\"name PO4 GL1 ROH\", n_groups=4, **kwargs):\n",
    "    \"\"\"Get and show coloured leaflets.\"\"\"\n",
    "    u = ag.universe\n",
    "    lf = LeafletFinder(ag, select=select, n_groups=n_groups, **kwargs)\n",
    "    n_residues = ', '.join(list(map(str, lf.sizes)))\n",
    "    print(f\"Found {len(lf.leaflets)} leaflets: {n_residues} residues\")\n",
    "    u.add_TopologyAttr('tempfactors')\n",
    "    for i, lfl in enumerate(lf.leaflets):\n",
    "        lag = lfl.residues.atoms\n",
    "        lag.tempfactors = np.zeros(len(lag)) + i\n",
    "    view = nv.show_mdanalysis(lf.residues)\n",
    "    view.clear_representations()\n",
    "    view.add_representation('spacefill', color_scheme='bfactor')\n",
    "    return view\n",
    "\n",
    "def get_leaflets(ag, select=\"name PO4 GL1 ROH\", **kwargs):\n",
    "    LeafletFinder(ag, select=select, **kwargs)"
   ]
  },
  {
   "cell_type": "markdown",
   "metadata": {},
   "source": [
    "## Entire membrane"
   ]
  },
  {
   "cell_type": "markdown",
   "metadata": {},
   "source": [
    "### Graph\n",
    "\n",
    "Graph cannot handle the inner leaflets being so close."
   ]
  },
  {
   "cell_type": "code",
   "execution_count": 14,
   "metadata": {
    "ExecuteTime": {
     "end_time": "2020-07-16T08:46:50.819231Z",
     "start_time": "2020-07-16T08:46:50.470381Z"
    },
    "scrolled": true
   },
   "outputs": [
    {
     "name": "stdout",
     "output_type": "stream",
     "text": [
      "Found 7 leaflets: 808, 407, 1, 1, 401, 1, 1 residues\n"
     ]
    },
    {
     "data": {
      "application/vnd.jupyter.widget-view+json": {
       "model_id": "a7e5a18722cb4bb5b9c5c9bb562e588c",
       "version_major": 2,
       "version_minor": 0
      },
      "text/plain": [
       "NGLWidget()"
      ]
     },
     "metadata": {},
     "output_type": "display_data"
    }
   ],
   "source": [
    "show_leaflets(u, method=\"graph\", cutoff=12)"
   ]
  },
  {
   "cell_type": "markdown",
   "metadata": {},
   "source": [
    "![graph, full](images/lf_db_graph_full.png)\n",
    "\n",
    "Images embedded to save space."
   ]
  },
  {
   "cell_type": "markdown",
   "metadata": {},
   "source": [
    "### Spectral clustering\n",
    "\n",
    "Spectral clustering breaks down immediately. I'll leave it out from here on."
   ]
  },
  {
   "cell_type": "code",
   "execution_count": 15,
   "metadata": {
    "ExecuteTime": {
     "end_time": "2020-07-16T08:47:05.312433Z",
     "start_time": "2020-07-16T08:47:04.152146Z"
    }
   },
   "outputs": [
    {
     "name": "stdout",
     "output_type": "stream",
     "text": [
      "Found 4 leaflets: 469, 408, 403, 340 residues\n"
     ]
    },
    {
     "data": {
      "application/vnd.jupyter.widget-view+json": {
       "model_id": "a7874cb1c6d34207ba2c6eac70024908",
       "version_major": 2,
       "version_minor": 0
      },
      "text/plain": [
       "NGLWidget()"
      ]
     },
     "metadata": {},
     "output_type": "display_data"
    }
   ],
   "source": [
    "show_leaflets(u, method=\"spectralclustering\", cutoff=80)"
   ]
  },
  {
   "cell_type": "markdown",
   "metadata": {},
   "source": [
    "![sc, full](images/lf_db_sc_full.png)"
   ]
  },
  {
   "cell_type": "markdown",
   "metadata": {},
   "source": [
    "### Orientation\n",
    "\n",
    "Orientation works."
   ]
  },
  {
   "cell_type": "code",
   "execution_count": 16,
   "metadata": {
    "ExecuteTime": {
     "end_time": "2020-07-16T08:47:51.611184Z",
     "start_time": "2020-07-16T08:47:51.026639Z"
    },
    "scrolled": true
   },
   "outputs": [
    {
     "name": "stdout",
     "output_type": "stream",
     "text": [
      "Found 4 leaflets: 408, 408, 402, 402 residues\n"
     ]
    },
    {
     "data": {
      "application/vnd.jupyter.widget-view+json": {
       "model_id": "55ffd29e254a488eb3221ce1e4e6c4fe",
       "version_major": 2,
       "version_minor": 0
      },
      "text/plain": [
       "NGLWidget()"
      ]
     },
     "metadata": {},
     "output_type": "display_data"
    }
   ],
   "source": [
    "show_leaflets(u, method=\"orientation\")"
   ]
  },
  {
   "cell_type": "markdown",
   "metadata": {},
   "source": [
    "![orient, full](images/lf_db_or_full.png)"
   ]
  },
  {
   "cell_type": "markdown",
   "metadata": {},
   "source": [
    "## Half the residues"
   ]
  },
  {
   "cell_type": "code",
   "execution_count": 17,
   "metadata": {
    "ExecuteTime": {
     "end_time": "2020-07-16T08:49:32.689555Z",
     "start_time": "2020-07-16T08:49:32.404920Z"
    },
    "scrolled": true
   },
   "outputs": [
    {
     "name": "stdout",
     "output_type": "stream",
     "text": [
      "Found 4 leaflets: 203, 203, 202, 202 residues\n"
     ]
    },
    {
     "data": {
      "application/vnd.jupyter.widget-view+json": {
       "model_id": "437c8fe01096470abb61158c3706f8ff",
       "version_major": 2,
       "version_minor": 0
      },
      "text/plain": [
       "NGLWidget()"
      ]
     },
     "metadata": {},
     "output_type": "display_data"
    }
   ],
   "source": [
    "show_leaflets(half, method=\"orientation\")"
   ]
  },
  {
   "cell_type": "markdown",
   "metadata": {},
   "source": [
    "![orient, half](images/lf_db_or_half.png)"
   ]
  },
  {
   "cell_type": "markdown",
   "metadata": {},
   "source": [
    "## Half CHOL\n",
    "\n",
    "Default cutoff won't do here."
   ]
  },
  {
   "cell_type": "code",
   "execution_count": 18,
   "metadata": {
    "ExecuteTime": {
     "end_time": "2020-07-16T08:49:47.385663Z",
     "start_time": "2020-07-16T08:49:47.265255Z"
    },
    "scrolled": true
   },
   "outputs": [
    {
     "name": "stdout",
     "output_type": "stream",
     "text": [
      "Found 4 leaflets: 33, 31, 15, 11 residues\n"
     ]
    },
    {
     "data": {
      "application/vnd.jupyter.widget-view+json": {
       "model_id": "73613797d8444f22a4888945540250e5",
       "version_major": 2,
       "version_minor": 0
      },
      "text/plain": [
       "NGLWidget()"
      ]
     },
     "metadata": {},
     "output_type": "display_data"
    }
   ],
   "source": [
    "show_leaflets(half_chol, method=\"orientation\")"
   ]
  },
  {
   "cell_type": "markdown",
   "metadata": {},
   "source": [
    "![orient, half chol, small cutoff](images/lf_db_or_half_chol_1.png)"
   ]
  },
  {
   "cell_type": "markdown",
   "metadata": {},
   "source": [
    "A decent guideline is half the length of the membrane."
   ]
  },
  {
   "cell_type": "code",
   "execution_count": 19,
   "metadata": {
    "ExecuteTime": {
     "end_time": "2020-07-16T08:50:13.740050Z",
     "start_time": "2020-07-16T08:50:13.638065Z"
    }
   },
   "outputs": [
    {
     "name": "stdout",
     "output_type": "stream",
     "text": [
      "Found 4 leaflets: 23, 23, 22, 22 residues\n"
     ]
    },
    {
     "data": {
      "application/vnd.jupyter.widget-view+json": {
       "model_id": "3895bddaa96a492695e595ff72b6525f",
       "version_major": 2,
       "version_minor": 0
      },
      "text/plain": [
       "NGLWidget()"
      ]
     },
     "metadata": {},
     "output_type": "display_data"
    }
   ],
   "source": [
    "show_leaflets(half_chol, method=\"orientation\", cutoff=60, n_groups=4)"
   ]
  },
  {
   "cell_type": "markdown",
   "metadata": {},
   "source": [
    "![orient, half chol, large cutoff](images/lf_db_or_half_chol_2.png)"
   ]
  },
  {
   "cell_type": "markdown",
   "metadata": {},
   "source": [
    "## Fifth"
   ]
  },
  {
   "cell_type": "code",
   "execution_count": 20,
   "metadata": {
    "ExecuteTime": {
     "end_time": "2020-07-16T08:50:30.372886Z",
     "start_time": "2020-07-16T08:50:30.192165Z"
    },
    "scrolled": false
   },
   "outputs": [
    {
     "name": "stdout",
     "output_type": "stream",
     "text": [
      "Found 4 leaflets: 82, 82, 80, 80 residues\n"
     ]
    },
    {
     "data": {
      "application/vnd.jupyter.widget-view+json": {
       "model_id": "c164f2e90d0247f2b1a649eb43cf93b8",
       "version_major": 2,
       "version_minor": 0
      },
      "text/plain": [
       "NGLWidget()"
      ]
     },
     "metadata": {},
     "output_type": "display_data"
    }
   ],
   "source": [
    "show_leaflets(fifth, method=\"orientation\", cutoff=100, n_groups=4)"
   ]
  },
  {
   "cell_type": "markdown",
   "metadata": {},
   "source": [
    "![orient, fifth](images/lf_db_or_fifth.png)"
   ]
  },
  {
   "cell_type": "markdown",
   "metadata": {},
   "source": [
    "## Fifth CHOL"
   ]
  },
  {
   "cell_type": "code",
   "execution_count": 21,
   "metadata": {
    "ExecuteTime": {
     "end_time": "2020-07-16T08:50:41.426050Z",
     "start_time": "2020-07-16T08:50:41.351513Z"
    }
   },
   "outputs": [
    {
     "name": "stdout",
     "output_type": "stream",
     "text": [
      "Found 4 leaflets: 10, 10, 8, 8 residues\n"
     ]
    },
    {
     "data": {
      "application/vnd.jupyter.widget-view+json": {
       "model_id": "5c994ba3b6f146c6aba2e8e9e02a06bd",
       "version_major": 2,
       "version_minor": 0
      },
      "text/plain": [
       "NGLWidget()"
      ]
     },
     "metadata": {},
     "output_type": "display_data"
    }
   ],
   "source": [
    "show_leaflets(fifth_chol, method=\"orientation\", cutoff=60, n_groups=4)"
   ]
  },
  {
   "cell_type": "markdown",
   "metadata": {},
   "source": [
    "![orient, fifth chol](images/lf_db_or_fifth_chol.png)"
   ]
  },
  {
   "cell_type": "code",
   "execution_count": null,
   "metadata": {
    "ExecuteTime": {
     "end_time": "2020-07-16T08:09:08.828285Z",
     "start_time": "2020-07-16T08:09:04.287289Z"
    }
   },
   "outputs": [],
   "source": [
    "%timeit get_leaflets(fifth_chol, method=\"orientation\", cutoff=60)"
   ]
  },
  {
   "cell_type": "markdown",
   "metadata": {},
   "source": [
    "🦉"
   ]
  }
 ],
 "metadata": {
  "kernelspec": {
   "display_name": "Python (mda-dev)",
   "language": "python",
   "name": "mda-dev"
  },
  "language_info": {
   "codemirror_mode": {
    "name": "ipython",
    "version": 3
   },
   "file_extension": ".py",
   "mimetype": "text/x-python",
   "name": "python",
   "nbconvert_exporter": "python",
   "pygments_lexer": "ipython3",
   "version": "3.7.6"
  },
  "toc": {
   "base_numbering": 1,
   "nav_menu": {},
   "number_sections": true,
   "sideBar": true,
   "skip_h1_title": false,
   "title_cell": "Table of Contents",
   "title_sidebar": "Contents",
   "toc_cell": false,
   "toc_position": {},
   "toc_section_display": true,
   "toc_window_display": true
  }
 },
 "nbformat": 4,
 "nbformat_minor": 4
}
